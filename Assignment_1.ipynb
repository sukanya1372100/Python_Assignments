{
  "nbformat": 4,
  "nbformat_minor": 0,
  "metadata": {
    "colab": {
      "name": "Assignment_1.ipynb",
      "provenance": [],
      "collapsed_sections": []
    },
    "kernelspec": {
      "name": "python3",
      "display_name": "Python 3"
    }
  },
  "cells": [
    {
      "cell_type": "code",
      "metadata": {
        "colab": {
          "base_uri": "https://localhost:8080/",
          "height": 52
        },
        "id": "snh-UFY30JbX",
        "outputId": "2934eedd-adec-46b2-fa0f-f2a0a1742269"
      },
      "source": [
        "'''Program -1 :- Calculate cost of rectangle shaped carpet where the user provides the length and width of the carpet. \n",
        "The price of the carpet is 100 Rupees per square meter.\n",
        "Hint: Length and width are Real numbers'''"
      ],
      "execution_count": null,
      "outputs": [
        {
          "output_type": "execute_result",
          "data": {
            "application/vnd.google.colaboratory.intrinsic+json": {
              "type": "string"
            },
            "text/plain": [
              "'Calculate cost of rectangle shaped carpet where the user provides the length and width of the carpet. \\nThe price of the carpet is 100 Rupees per square meter.\\nHint: Length and width are Real numbers'"
            ]
          },
          "metadata": {
            "tags": []
          },
          "execution_count": 1
        }
      ]
    },
    {
      "cell_type": "code",
      "metadata": {
        "colab": {
          "base_uri": "https://localhost:8080/"
        },
        "id": "Po6KIXqF0bQC",
        "outputId": "978eaee3-664f-4dc6-9f5b-d7936799b87d"
      },
      "source": [
        "Length = int(input('enter the length of carpet :'))\n",
        "width = int(input('enter the width of the carpet :'))\n",
        "area = Length * width\n",
        "total_amount = 100 * area\n",
        "print('total_amount is', total_amount)"
      ],
      "execution_count": null,
      "outputs": [
        {
          "output_type": "stream",
          "text": [
            "enter the length of carpet :50\n",
            "enter the width of the carpet :60\n",
            "total_amount 300000\n"
          ],
          "name": "stdout"
        }
      ]
    },
    {
      "cell_type": "code",
      "metadata": {
        "id": "Ski50fjLS3_P"
      },
      "source": [
        "''' Program -2 :- Calculate volume of a cylinder when radius and height is given by the user and print the volume.'''"
      ],
      "execution_count": null,
      "outputs": []
    },
    {
      "cell_type": "code",
      "metadata": {
        "colab": {
          "base_uri": "https://localhost:8080/"
        },
        "id": "WJG107sS0to8",
        "outputId": "082c6753-741e-49f7-cbd2-9a72fcd50ba6"
      },
      "source": [
        "from math import pi\r\n",
        "height = int(input('enter height of the cylinder:'))\r\n",
        "radius = int(input('enter radius of the cylinder:'))\r\n",
        "volume = pi*radius*radius*height\r\n",
        "print('voulme of cylinder:',round(volume,2),'cc')\r\n"
      ],
      "execution_count": 3,
      "outputs": [
        {
          "output_type": "stream",
          "text": [
            "enter height of the cylinder:50\n",
            "enter radius of the cylinder:50\n",
            "voulme of cylinder: 392699.08 cc\n"
          ],
          "name": "stdout"
        }
      ]
    },
    {
      "cell_type": "code",
      "metadata": {
        "colab": {
          "base_uri": "https://localhost:8080/",
          "height": 52
        },
        "id": "0zbj4ZoKC2si",
        "outputId": "dcf615c7-654a-424e-effb-727b69bdb8d0"
      },
      "source": [
        "'''Program-3:Write a program to compute the future value of a specified principal amount, rate of interest for one year, \r\n",
        "and a number of years using simple interest.[Read all these from the user]\r\n",
        "[hint: Output = Interest + Principal]'''"
      ],
      "execution_count": null,
      "outputs": [
        {
          "output_type": "execute_result",
          "data": {
            "application/vnd.google.colaboratory.intrinsic+json": {
              "type": "string"
            },
            "text/plain": [
              "'Write a program to compute the future value of a specified principal amount, rate of interest for one year, \\nand a number of years using simple interest.[Read all these from the user]\\n[hint: Output = Interest + Principal]'"
            ]
          },
          "metadata": {
            "tags": []
          },
          "execution_count": 15
        }
      ]
    },
    {
      "cell_type": "code",
      "metadata": {
        "colab": {
          "base_uri": "https://localhost:8080/"
        },
        "id": "A4P7q2iBTLL2",
        "outputId": "1de81bcd-83ed-4c51-b389-421dd3dbbdc5"
      },
      "source": [
        "Principal = int(input('Principal_amount:'))\r\n",
        "time = int(input('number of years:'))\r\n",
        "rate_of_interest = int(input('rate of interest:'))\r\n",
        "I = (Principal+((Principal*time*rate_of_interest)/100))\r\n",
        "print('final amount', I,'rs')\r\n"
      ],
      "execution_count": 5,
      "outputs": [
        {
          "output_type": "stream",
          "text": [
            "Principal_amount:500\n",
            "number of years:2\n",
            "rate of interest:10\n",
            "final amount 600.0 rs\n"
          ],
          "name": "stdout"
        }
      ]
    },
    {
      "cell_type": "code",
      "metadata": {
        "id": "a5QRBomlhKJ5"
      },
      "source": [
        ""
      ],
      "execution_count": null,
      "outputs": []
    }
  ]
}